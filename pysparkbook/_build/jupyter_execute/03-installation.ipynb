{
 "cells": [
  {
   "cell_type": "markdown",
   "id": "c09ef7fb-e046-4b35-947f-ee522c5c6d5f",
   "metadata": {},
   "source": [
    "# Installation\n",
    "\n",
    "First, we will walk through how to install PySpark.\n",
    "\n"
   ]
  },
  {
   "cell_type": "markdown",
   "id": "53c4c5b2-1bbd-4dc7-99de-93c5a3853ec0",
   "metadata": {},
   "source": [
    "The easiest way to get started is to install using pip:"
   ]
  },
  {
   "cell_type": "code",
   "execution_count": 1,
   "id": "86b39e15-55ee-4eb1-9271-6266d979d297",
   "metadata": {},
   "outputs": [
    {
     "name": "stdout",
     "output_type": "stream",
     "text": [
      "Requirement already satisfied: pyspark in /Users/amanda.liu/anaconda3/envs/llm-spark/lib/python3.11/site-packages (3.4.1)\r\n",
      "Requirement already satisfied: py4j==0.10.9.7 in /Users/amanda.liu/anaconda3/envs/llm-spark/lib/python3.11/site-packages (from pyspark) (0.10.9.7)\r\n"
     ]
    },
    {
     "name": "stdout",
     "output_type": "stream",
     "text": [
      "Note: you may need to restart the kernel to use updated packages.\n"
     ]
    }
   ],
   "source": [
    "pip install pyspark"
   ]
  },
  {
   "cell_type": "markdown",
   "id": "3f0b5312-294b-4463-944c-df8745f28417",
   "metadata": {},
   "source": [
    "Now let's try importing pyspark, to check if our installation was successful."
   ]
  },
  {
   "cell_type": "code",
   "execution_count": 2,
   "id": "8785ff8b-f70c-4f4e-8317-32a3bee31af7",
   "metadata": {},
   "outputs": [],
   "source": [
    "import pyspark"
   ]
  },
  {
   "cell_type": "markdown",
   "id": "35a0d7b0-fae6-40dc-b12d-87f2eba566bc",
   "metadata": {},
   "source": [
    "We don't see any errors, which means pyspark was successfully installed. We're ready to go!"
   ]
  }
 ],
 "metadata": {
  "kernelspec": {
   "display_name": "Python 3 (ipykernel)",
   "language": "python",
   "name": "python3"
  },
  "language_info": {
   "codemirror_mode": {
    "name": "ipython",
    "version": 3
   },
   "file_extension": ".py",
   "mimetype": "text/x-python",
   "name": "python",
   "nbconvert_exporter": "python",
   "pygments_lexer": "ipython3",
   "version": "3.11.4"
  }
 },
 "nbformat": 4,
 "nbformat_minor": 5
}